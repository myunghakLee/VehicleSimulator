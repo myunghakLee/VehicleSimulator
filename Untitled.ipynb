{
 "cells": [
  {
   "cell_type": "code",
   "execution_count": 23,
   "metadata": {
    "ExecuteTime": {
     "end_time": "2020-12-31T15:41:53.164913Z",
     "start_time": "2020-12-31T15:41:53.155974Z"
    }
   },
   "outputs": [
    {
     "ename": "NameError",
     "evalue": "name 'X_1000' is not defined",
     "output_type": "error",
     "traceback": [
      "\u001b[0;31m---------------------------------------------------------------------------\u001b[0m",
      "\u001b[0;31mNameError\u001b[0m                                 Traceback (most recent call last)",
      "\u001b[0;32m<ipython-input-23-5b5b0ae7cfc9>\u001b[0m in \u001b[0;36m<module>\u001b[0;34m\u001b[0m\n\u001b[0;32m----> 1\u001b[0;31m \u001b[0mTE\u001b[0m\u001b[0;34m.\u001b[0m\u001b[0mcalc\u001b[0m\u001b[0;34m(\u001b[0m\u001b[0mX_1000\u001b[0m\u001b[0;34m.\u001b[0m\u001b[0mtolist\u001b[0m\u001b[0;34m(\u001b[0m\u001b[0;34m)\u001b[0m\u001b[0;34m,\u001b[0m \u001b[0mX_1000\u001b[0m\u001b[0;34m.\u001b[0m\u001b[0mtolist\u001b[0m\u001b[0;34m(\u001b[0m\u001b[0;34m)\u001b[0m\u001b[0;34m)\u001b[0m\u001b[0;34m\u001b[0m\u001b[0;34m\u001b[0m\u001b[0m\n\u001b[0m",
      "\u001b[0;31mNameError\u001b[0m: name 'X_1000' is not defined"
     ]
    }
   ],
   "source": [
    "TE.calc(X_1000.tolist(), X_1000.tolist())"
   ]
  },
  {
   "cell_type": "code",
   "execution_count": 144,
   "metadata": {
    "ExecuteTime": {
     "end_time": "2020-12-29T22:40:17.418340Z",
     "start_time": "2020-12-29T22:40:17.391177Z"
    }
   },
   "outputs": [
    {
     "name": "stdout",
     "output_type": "stream",
     "text": [
      "Y -> X :  -0.15208350777000934\n",
      "X -> Y :  3.178895822811128\n"
     ]
    }
   ],
   "source": [
    "# Y는 X를 따라감\n",
    "X_1000 = rand.randn(1000).flatten()\n",
    "Y_1000 =np.concatenate((np.array([0]), X_1000[:-1]))\n",
    "\n",
    "TE1, TE2 = te.te_compute(X_1000, Y_1000, k=1, embedding=1, safetyCheck=True, GPU=False), te.te_compute(Y_1000, X_1000, k=1, embedding=1, safetyCheck=True, GPU=False)\n",
    "print(\"Y -> X : \", TE1)\n",
    "print(\"X -> Y : \", TE2)\n"
   ]
  },
  {
   "cell_type": "code",
   "execution_count": 142,
   "metadata": {
    "ExecuteTime": {
     "end_time": "2020-12-29T22:39:27.242672Z",
     "start_time": "2020-12-29T22:39:27.238324Z"
    }
   },
   "outputs": [
    {
     "data": {
      "text/plain": [
       "(array([-0.47301292, -0.11414229, -0.16553938,  4.58934274, -1.53430937]),\n",
       " array([ 0.        , -0.47301292, -0.11414229, -0.16553938,  4.58934274]))"
      ]
     },
     "execution_count": 142,
     "metadata": {},
     "output_type": "execute_result"
    }
   ],
   "source": [
    "X_1000[:5], Y_1000[:5]"
   ]
  },
  {
   "cell_type": "code",
   "execution_count": 1,
   "metadata": {
    "ExecuteTime": {
     "end_time": "2020-12-31T15:42:04.144344Z",
     "start_time": "2020-12-31T15:42:04.125196Z"
    }
   },
   "outputs": [],
   "source": [
    "import computeTE\n",
    "import makeGIF\n",
    "import vehicle"
   ]
  },
  {
   "cell_type": "code",
   "execution_count": 2,
   "metadata": {
    "ExecuteTime": {
     "end_time": "2020-12-31T15:42:04.659001Z",
     "start_time": "2020-12-31T15:42:04.652353Z"
    }
   },
   "outputs": [],
   "source": [
    "from matplotlib import pyplot as plt\n",
    "from tqdm.notebook import tqdm"
   ]
  },
  {
   "cell_type": "code",
   "execution_count": 3,
   "metadata": {
    "ExecuteTime": {
     "end_time": "2020-12-31T15:42:05.090248Z",
     "start_time": "2020-12-31T15:42:04.929680Z"
    }
   },
   "outputs": [
    {
     "name": "stderr",
     "output_type": "stream",
     "text": [
      "/opt/conda/lib/python3.7/site-packages/jpype/_core.py:209: UserWarning: \n",
      "-------------------------------------------------------------------------------\n",
      "Deprecated: convertStrings was not specified when starting the JVM. The default\n",
      "behavior in JPype will be False starting in JPype 0.8. The recommended setting\n",
      "for new code is convertStrings=False.  The legacy value of True was assumed for\n",
      "this session. If you are a user of an application that reported this warning,\n",
      "please file a ticket with the developer.\n",
      "-------------------------------------------------------------------------------\n",
      "\n",
      "  \"\"\")\n"
     ]
    }
   ],
   "source": [
    "TE = computeTE.ComputeTE(8)"
   ]
  },
  {
   "cell_type": "code",
   "execution_count": 4,
   "metadata": {
    "ExecuteTime": {
     "end_time": "2020-12-31T15:42:05.687855Z",
     "start_time": "2020-12-31T15:42:05.682579Z"
    }
   },
   "outputs": [],
   "source": [
    "def Draw(Vehicle, name,plt):\n",
    "    T = np.array(Vehicle.trajectory)\n",
    "    plt.plot(T[:,0], T[:,1], label = name)\n",
    "    plt.scatter(T[:,0][-1], T[:,1][-1])\n",
    "    max_value, min_value = max(T.flatten()), min(T.flatten())\n",
    "    return max_value, min_value"
   ]
  },
  {
   "cell_type": "code",
   "execution_count": 5,
   "metadata": {
    "ExecuteTime": {
     "end_time": "2020-12-31T15:42:06.604575Z",
     "start_time": "2020-12-31T15:42:06.597020Z"
    }
   },
   "outputs": [],
   "source": [
    "def computeTEandMakeGIF(data_source,data_desc,save_file_name, plt_axis, plt_figsize = (7,7), Azorder = 2, fps = 10):\n",
    "    resultsTE = TE.calc(data_source, data_desc)\n",
    "    print(resultsTE)\n",
    "    data_source = np.array(data_source)\n",
    "    data_desc = np.array(data_desc)\n",
    "\n",
    "#     plt.figure(figsize=(5, 5))\n",
    "#     plt.plot(data_source[:,0], data_source[:,1])\n",
    "#     plt.plot(data_desc[:,0], data_desc[:,1])\n",
    "    title = f\"AtoB = {round(resultsTE[0],5)}   BtoA = {round(resultsTE[1],5)}\"\n",
    "\n",
    "\n",
    "    GIF = makeGIF.makeGIF(axis = plt_axis, title = title, figsize = plt_figsize)\n",
    "\n",
    "\n",
    "    for i in tqdm(range(1,len(data_source))):\n",
    "        GIF.add_plot(data_source[:,0][:i], data_source[:,1][:i], data_desc[:,0][:i], data_desc[:,1][:i], Azorder = Azorder)\n",
    "    GIF.make_gif(save_file_name, fps = fps)\n"
   ]
  },
  {
   "cell_type": "code",
   "execution_count": 6,
   "metadata": {
    "ExecuteTime": {
     "end_time": "2020-12-31T15:42:07.286598Z",
     "start_time": "2020-12-31T15:42:07.162376Z"
    }
   },
   "outputs": [
    {
     "data": {
      "text/plain": [
       "(1098765432.1, -1147546310.8539934, 3345077175.053993)"
      ]
     },
     "execution_count": 6,
     "metadata": {},
     "output_type": "execute_result"
    }
   ],
   "source": [
    "import numpy as np\n",
    "import scipy.stats\n",
    "\n",
    "def mean_confidence_interval(data, confidence=0.95):\n",
    "    a = 1.0 * np.array(data)\n",
    "    n = len(a)\n",
    "    m, se = np.mean(a), scipy.stats.sem(a)\n",
    "    h = se * scipy.stats.t.ppf((1 + confidence) / 2., n-1)\n",
    "    return m, m-h, m+h\n",
    "\n",
    "\n",
    "mean_confidence_interval([1,20,300,4000,50000,600000,7000000,80000000,900000000,10000000000])"
   ]
  },
  {
   "cell_type": "markdown",
   "metadata": {},
   "source": [
    "### 시나리오 0\n",
    "무작위 숫자\n",
    "\n",
    "단 source는 desc를 따라감"
   ]
  },
  {
   "cell_type": "code",
   "execution_count": 7,
   "metadata": {
    "ExecuteTime": {
     "end_time": "2020-12-31T15:42:09.822596Z",
     "start_time": "2020-12-31T15:42:09.392394Z"
    }
   },
   "outputs": [
    {
     "name": "stderr",
     "output_type": "stream",
     "text": [
      "/opt/conda/lib/python3.7/site-packages/numba/decorators.py:234: RuntimeWarning: nopython is set for njit and is ignored\n",
      "  warnings.warn('nopython is set for njit and is ignored', RuntimeWarning)\n"
     ]
    }
   ],
   "source": [
    "from PyIF import te_compute as te\n",
    "import numpy as np"
   ]
  },
  {
   "cell_type": "code",
   "execution_count": null,
   "metadata": {
    "ExecuteTime": {
     "start_time": "2020-12-31T06:45:14.359Z"
    },
    "scrolled": true
   },
   "outputs": [
    {
     "data": {
      "application/vnd.jupyter.widget-view+json": {
       "model_id": "b63a296fa3cb4b9d8aedc54f9346ca05",
       "version_major": 2,
       "version_minor": 0
      },
      "text/plain": [
       "HBox(children=(FloatProgress(value=0.0, max=200.0), HTML(value='')))"
      ]
     },
     "metadata": {},
     "output_type": "display_data"
    },
    {
     "name": "stdout",
     "output_type": "stream",
     "text": [
      "200 200\n",
      "200 200\n",
      "200 200\n",
      "200 200\n",
      "200 200\n",
      "200 200\n",
      "200 200\n",
      "200 200\n",
      "200 200\n",
      "200 200\n",
      "200 200\n",
      "200 200\n",
      "200 200\n",
      "200 200\n",
      "200 200\n",
      "200 200\n",
      "200 200\n",
      "200 200\n",
      "200 200\n",
      "200 200\n",
      "200 200\n",
      "200 200\n",
      "200 200\n",
      "200 200\n",
      "200 200\n",
      "200 200\n",
      "200 200\n",
      "200 200\n",
      "200 200\n",
      "200 200\n",
      "200 200\n",
      "200 200\n",
      "200 200\n",
      "200 200\n",
      "200 200\n",
      "200 200\n",
      "200 200\n",
      "200 200\n",
      "200 200\n",
      "200 200\n",
      "200 200\n",
      "200 200\n",
      "200 200\n",
      "200 200\n",
      "200 200\n",
      "200 200\n",
      "200 200\n",
      "200 200\n",
      "200 200\n",
      "200 200\n",
      "200 200\n",
      "200 200\n",
      "200 200\n",
      "200 200\n",
      "200 200\n",
      "200 200\n",
      "200 200\n",
      "200 200\n",
      "200 200\n",
      "200 200\n",
      "200 200\n",
      "200 200\n",
      "200 200\n",
      "200 200\n",
      "200 200\n",
      "200 200\n",
      "200 200\n",
      "200 200\n",
      "200 200\n",
      "200 200\n",
      "200 200\n",
      "200 200\n",
      "200 200\n",
      "200 200\n",
      "200 200\n",
      "200 200\n",
      "200 200\n",
      "200 200\n",
      "200 200\n",
      "200 200\n",
      "200 200\n",
      "200 200\n",
      "200 200\n",
      "200 200\n",
      "200 200\n",
      "200 200\n",
      "200 200\n",
      "200 200\n",
      "200 200\n",
      "200 200\n",
      "200 200\n",
      "200 200\n",
      "200 200\n",
      "200 200\n",
      "200 200\n",
      "200 200\n",
      "200 200\n",
      "200 200\n",
      "200 200\n",
      "200 200\n",
      "200 200\n",
      "200 200\n",
      "200 200\n",
      "200 200\n",
      "200 200\n",
      "200 200\n",
      "200 200\n",
      "200 200\n",
      "200 200\n",
      "200 200\n",
      "200 200\n",
      "200 200\n",
      "200 200\n",
      "200 200\n",
      "200 200\n",
      "200 200\n",
      "200 200\n",
      "200 200\n",
      "200 200\n",
      "200 200\n",
      "200 200\n",
      "200 200\n",
      "200 200\n",
      "200 200\n",
      "200 200\n",
      "200 200\n",
      "200 200\n",
      "200 200\n",
      "200 200\n",
      "200 200\n",
      "200 200\n",
      "200 200\n",
      "200 200\n",
      "200 200\n",
      "200 200\n",
      "200 200\n",
      "200 200\n",
      "200 200\n",
      "200 200\n",
      "200 200\n",
      "200 200\n",
      "200 200\n",
      "200 200\n",
      "200 200\n",
      "200 200\n",
      "200 200\n",
      "200 200\n",
      "200 200\n",
      "200 200\n",
      "200 200\n",
      "200 200\n",
      "200 200\n",
      "200 200\n",
      "200 200\n",
      "200 200\n",
      "200 200\n",
      "200 200\n",
      "200 200\n",
      "200 200\n",
      "200 200\n",
      "200 200\n",
      "200 200\n",
      "200 200\n",
      "200 200\n",
      "200 200\n",
      "200 200\n",
      "200 200\n",
      "200 200\n",
      "200 200\n",
      "200 200\n",
      "200 200\n",
      "200 200\n",
      "200 200\n",
      "200 200\n",
      "200 200\n",
      "200 200\n",
      "200 200\n",
      "200 200\n",
      "200 200\n",
      "200 200\n",
      "200 200\n",
      "200 200\n",
      "200 200\n",
      "200 200\n",
      "200 200\n",
      "200 200\n",
      "200 200\n",
      "200 200\n",
      "200 200\n",
      "200 200\n",
      "200 200\n",
      "200 200\n",
      "200 200\n",
      "200 200\n",
      "200 200\n",
      "200 200\n",
      "200 200\n",
      "200 200\n",
      "200 200\n",
      "200 200\n"
     ]
    }
   ],
   "source": [
    "import random as r\n",
    "import numpy as np # GIF_RESULTS\n",
    "arr = []\n",
    "for i in tqdm(range(200)):\n",
    "\n",
    "    data_source = [[r.random()*200,r.random()*200] for i in range(100)]\n",
    "    data_desc = [d for d in data_source[1:]] + [[0.0,0.0]]   # desc가 source를 따라가는 경우\n",
    "\n",
    "    data_source = data_source + [[r.random()*200,r.random()*200] for i in range(100)]\n",
    "    data_desc =  data_desc + [[r.random()*200,r.random()*200] for i in range(100)]  # desc가 source를 따라가는 경우\n",
    "    \n",
    "    print(len(data_source), len(data_desc))\n",
    "#     resultsTE = max(te.te_compute(data_source, data_desc, k=1, embedding=1, safetyCheck=True, GPU=False) , te.te_compute(data_source, data_desc, k=1, embedding=1, safetyCheck=True, GPU=False))\n",
    "#                 max(te.te_compute(data_desc, data_source, k=1, embedding=1, safetyCheck=True, GPU=False) , te.te_compute(data_desc, data_source, k=1, embedding=1, safetyCheck=True, GPU=False)) # \n",
    "    resultsTE = TE.calc(data_source, data_desc)\n",
    "#     resultsTE = computeTEpython(data_source, data_desc)\n",
    "    arr.append(resultsTE)\n",
    "\n",
    "# computeTEandMakeGIF(data_source,data_desc, \"GIF_RESULTS/Scenario00\")\n"
   ]
  },
  {
   "cell_type": "code",
   "execution_count": 22,
   "metadata": {
    "ExecuteTime": {
     "end_time": "2020-12-30T15:38:30.897029Z",
     "start_time": "2020-12-30T15:38:30.892276Z"
    }
   },
   "outputs": [
    {
     "data": {
      "text/plain": [
       "((0.011171576434061036, -0.0051711134439172725, 0.027514266312039345),\n",
       " (0.09784845968910467, 0.04206644580610322, 0.15363047357210613))"
      ]
     },
     "execution_count": 22,
     "metadata": {},
     "output_type": "execute_result"
    }
   ],
   "source": [
    "mean_confidence_interval(np.array(arr)[:,0]), mean_confidence_interval(np.array(arr)[:,1])"
   ]
  },
  {
   "cell_type": "code",
   "execution_count": 20,
   "metadata": {
    "ExecuteTime": {
     "end_time": "2020-12-30T15:37:59.767381Z",
     "start_time": "2020-12-30T15:37:59.761537Z"
    }
   },
   "outputs": [
    {
     "data": {
      "text/plain": [
       "((0.0017428536587945852, -0.0211621215364626, 0.024647828854051767),\n",
       " (0.18232545520948928, 0.12888991084555695, 0.23576099957342161))"
      ]
     },
     "execution_count": 20,
     "metadata": {},
     "output_type": "execute_result"
    }
   ],
   "source": [
    "mean_confidence_interval(np.array(arr)[:,0]), mean_confidence_interval(np.array(arr)[:,1])"
   ]
  },
  {
   "cell_type": "code",
   "execution_count": 10,
   "metadata": {
    "ExecuteTime": {
     "end_time": "2020-12-31T15:44:13.950013Z",
     "start_time": "2020-12-31T15:44:13.943017Z"
    }
   },
   "outputs": [],
   "source": [
    "def computeTEpython(data_source, data_desc):\n",
    "    data_source = np.array(data_source)\n",
    "    data_desc = np.array(data_desc)\n",
    "    TE = sum(te.te_compute(data_source[:,0], data_desc[:,0], k=1, embedding=1, safetyCheck=True, GPU=False), te.te_compute(data_source[:,1], data_desc[:,1], k=1, embedding=1, safetyCheck=True, GPU=False))/2.0,\\\n",
    "                sum(te.te_compute(data_desc[:,0], data_source[:,0], k=1, embedding=1, safetyCheck=True, GPU=False), te.te_compute(data_desc[:,1], data_source[:,1], k=1, embedding=1, safetyCheck=True, GPU=False))/2.0 # \n",
    "    return TE"
   ]
  },
  {
   "cell_type": "code",
   "execution_count": 7,
   "metadata": {
    "ExecuteTime": {
     "end_time": "2020-12-29T22:50:02.396424Z",
     "start_time": "2020-12-29T22:50:01.766072Z"
    }
   },
   "outputs": [
    {
     "data": {
      "application/vnd.jupyter.widget-view+json": {
       "model_id": "898e7712ef56416cb615ba0b2fb0a5cd",
       "version_major": 2,
       "version_minor": 0
      },
      "text/plain": [
       "HBox(children=(FloatProgress(value=0.0, max=10.0), HTML(value='')))"
      ]
     },
     "metadata": {},
     "output_type": "display_data"
    },
    {
     "name": "stdout",
     "output_type": "stream",
     "text": [
      "\n"
     ]
    },
    {
     "ename": "TypeError",
     "evalue": "tuple indices must be integers or slices, not numpy.float64",
     "output_type": "error",
     "traceback": [
      "\u001b[0;31m---------------------------------------------------------------------------\u001b[0m",
      "\u001b[0;31mTypeError\u001b[0m                                 Traceback (most recent call last)",
      "\u001b[0;32m<ipython-input-7-b6b57f0df58a>\u001b[0m in \u001b[0;36m<module>\u001b[0;34m\u001b[0m\n\u001b[1;32m      8\u001b[0m     \u001b[0mdata_source\u001b[0m \u001b[0;34m=\u001b[0m \u001b[0mrand\u001b[0m\u001b[0;34m.\u001b[0m\u001b[0mrandn\u001b[0m\u001b[0;34m(\u001b[0m\u001b[0;36m200\u001b[0m\u001b[0;34m,\u001b[0m \u001b[0;36m2\u001b[0m\u001b[0;34m)\u001b[0m\u001b[0;34m\u001b[0m\u001b[0;34m\u001b[0m\u001b[0m\n\u001b[1;32m      9\u001b[0m     \u001b[0mdata_desc\u001b[0m \u001b[0;34m=\u001b[0m  \u001b[0mnp\u001b[0m\u001b[0;34m.\u001b[0m\u001b[0mconcatenate\u001b[0m\u001b[0;34m(\u001b[0m\u001b[0;34m(\u001b[0m\u001b[0mnp\u001b[0m\u001b[0;34m.\u001b[0m\u001b[0marray\u001b[0m\u001b[0;34m(\u001b[0m\u001b[0;34m[\u001b[0m\u001b[0;34m[\u001b[0m\u001b[0;36m0\u001b[0m\u001b[0;34m,\u001b[0m\u001b[0;36m0\u001b[0m\u001b[0;34m]\u001b[0m\u001b[0;34m]\u001b[0m\u001b[0;34m)\u001b[0m\u001b[0;34m,\u001b[0m\u001b[0mdata_source\u001b[0m\u001b[0;34m[\u001b[0m\u001b[0;34m:\u001b[0m\u001b[0;34m-\u001b[0m\u001b[0;36m1\u001b[0m\u001b[0;34m]\u001b[0m\u001b[0;34m)\u001b[0m\u001b[0;34m)\u001b[0m\u001b[0;34m\u001b[0m\u001b[0;34m\u001b[0m\u001b[0m\n\u001b[0;32m---> 10\u001b[0;31m     \u001b[0mresultsTE\u001b[0m \u001b[0;34m=\u001b[0m \u001b[0mnp\u001b[0m\u001b[0;34m.\u001b[0m\u001b[0mmean\u001b[0m\u001b[0;34m(\u001b[0m\u001b[0mte\u001b[0m\u001b[0;34m.\u001b[0m\u001b[0mte_compute\u001b[0m\u001b[0;34m(\u001b[0m\u001b[0mdata_source\u001b[0m\u001b[0;34m[\u001b[0m\u001b[0;34m:\u001b[0m\u001b[0;34m,\u001b[0m\u001b[0;36m0\u001b[0m\u001b[0;34m]\u001b[0m\u001b[0;34m,\u001b[0m \u001b[0mdata_desc\u001b[0m\u001b[0;34m[\u001b[0m\u001b[0;34m:\u001b[0m\u001b[0;34m,\u001b[0m\u001b[0;36m0\u001b[0m\u001b[0;34m]\u001b[0m\u001b[0;34m,\u001b[0m \u001b[0mk\u001b[0m\u001b[0;34m=\u001b[0m\u001b[0;36m1\u001b[0m\u001b[0;34m,\u001b[0m \u001b[0membedding\u001b[0m\u001b[0;34m=\u001b[0m\u001b[0;36m1\u001b[0m\u001b[0;34m,\u001b[0m \u001b[0msafetyCheck\u001b[0m\u001b[0;34m=\u001b[0m\u001b[0;32mTrue\u001b[0m\u001b[0;34m,\u001b[0m \u001b[0mGPU\u001b[0m\u001b[0;34m=\u001b[0m\u001b[0;32mFalse\u001b[0m\u001b[0;34m)\u001b[0m\u001b[0;34m,\u001b[0m \u001b[0mte\u001b[0m\u001b[0;34m.\u001b[0m\u001b[0mte_compute\u001b[0m\u001b[0;34m(\u001b[0m\u001b[0mdata_source\u001b[0m\u001b[0;34m[\u001b[0m\u001b[0;34m:\u001b[0m\u001b[0;34m,\u001b[0m\u001b[0;36m1\u001b[0m\u001b[0;34m]\u001b[0m\u001b[0;34m,\u001b[0m \u001b[0mdata_desc\u001b[0m\u001b[0;34m[\u001b[0m\u001b[0;34m:\u001b[0m\u001b[0;34m,\u001b[0m\u001b[0;36m1\u001b[0m\u001b[0;34m]\u001b[0m\u001b[0;34m,\u001b[0m \u001b[0mk\u001b[0m\u001b[0;34m=\u001b[0m\u001b[0;36m1\u001b[0m\u001b[0;34m,\u001b[0m \u001b[0membedding\u001b[0m\u001b[0;34m=\u001b[0m\u001b[0;36m1\u001b[0m\u001b[0;34m,\u001b[0m \u001b[0msafetyCheck\u001b[0m\u001b[0;34m=\u001b[0m\u001b[0;32mTrue\u001b[0m\u001b[0;34m,\u001b[0m \u001b[0mGPU\u001b[0m\u001b[0;34m=\u001b[0m\u001b[0;32mFalse\u001b[0m\u001b[0;34m)\u001b[0m\u001b[0;34m)\u001b[0m\u001b[0;34m,\u001b[0m\u001b[0;31m\\\u001b[0m\u001b[0;34m\u001b[0m\u001b[0;34m\u001b[0m\u001b[0m\n\u001b[0m\u001b[1;32m     11\u001b[0m                 \u001b[0mnp\u001b[0m\u001b[0;34m.\u001b[0m\u001b[0mmean\u001b[0m\u001b[0;34m(\u001b[0m\u001b[0mte\u001b[0m\u001b[0;34m.\u001b[0m\u001b[0mte_compute\u001b[0m\u001b[0;34m(\u001b[0m\u001b[0mdata_desc\u001b[0m\u001b[0;34m[\u001b[0m\u001b[0;34m:\u001b[0m\u001b[0;34m,\u001b[0m\u001b[0;36m0\u001b[0m\u001b[0;34m]\u001b[0m\u001b[0;34m,\u001b[0m \u001b[0mdata_source\u001b[0m\u001b[0;34m[\u001b[0m\u001b[0;34m:\u001b[0m\u001b[0;34m,\u001b[0m\u001b[0;36m0\u001b[0m\u001b[0;34m]\u001b[0m\u001b[0;34m,\u001b[0m \u001b[0mk\u001b[0m\u001b[0;34m=\u001b[0m\u001b[0;36m1\u001b[0m\u001b[0;34m,\u001b[0m \u001b[0membedding\u001b[0m\u001b[0;34m=\u001b[0m\u001b[0;36m1\u001b[0m\u001b[0;34m,\u001b[0m \u001b[0msafetyCheck\u001b[0m\u001b[0;34m=\u001b[0m\u001b[0;32mTrue\u001b[0m\u001b[0;34m,\u001b[0m \u001b[0mGPU\u001b[0m\u001b[0;34m=\u001b[0m\u001b[0;32mFalse\u001b[0m\u001b[0;34m)\u001b[0m\u001b[0;34m,\u001b[0m \u001b[0mte\u001b[0m\u001b[0;34m.\u001b[0m\u001b[0mte_compute\u001b[0m\u001b[0;34m(\u001b[0m\u001b[0mdata_desc\u001b[0m\u001b[0;34m[\u001b[0m\u001b[0;34m:\u001b[0m\u001b[0;34m,\u001b[0m\u001b[0;36m1\u001b[0m\u001b[0;34m]\u001b[0m\u001b[0;34m,\u001b[0m \u001b[0mdata_source\u001b[0m\u001b[0;34m[\u001b[0m\u001b[0;34m:\u001b[0m\u001b[0;34m,\u001b[0m\u001b[0;36m1\u001b[0m\u001b[0;34m]\u001b[0m\u001b[0;34m,\u001b[0m \u001b[0mk\u001b[0m\u001b[0;34m=\u001b[0m\u001b[0;36m1\u001b[0m\u001b[0;34m,\u001b[0m \u001b[0membedding\u001b[0m\u001b[0;34m=\u001b[0m\u001b[0;36m1\u001b[0m\u001b[0;34m,\u001b[0m \u001b[0msafetyCheck\u001b[0m\u001b[0;34m=\u001b[0m\u001b[0;32mTrue\u001b[0m\u001b[0;34m,\u001b[0m \u001b[0mGPU\u001b[0m\u001b[0;34m=\u001b[0m\u001b[0;32mFalse\u001b[0m\u001b[0;34m)\u001b[0m\u001b[0;34m)\u001b[0m \u001b[0;31m#\u001b[0m\u001b[0;34m\u001b[0m\u001b[0;34m\u001b[0m\u001b[0m\n\u001b[1;32m     12\u001b[0m     \u001b[0marr\u001b[0m\u001b[0;34m.\u001b[0m\u001b[0mappend\u001b[0m\u001b[0;34m(\u001b[0m\u001b[0mresultsTE\u001b[0m\u001b[0;34m)\u001b[0m\u001b[0;34m\u001b[0m\u001b[0;34m\u001b[0m\u001b[0m\n",
      "\u001b[0;32m<__array_function__ internals>\u001b[0m in \u001b[0;36mmean\u001b[0;34m(*args, **kwargs)\u001b[0m\n",
      "\u001b[0;32m/opt/conda/lib/python3.7/site-packages/numpy/core/fromnumeric.py\u001b[0m in \u001b[0;36mmean\u001b[0;34m(a, axis, dtype, out, keepdims)\u001b[0m\n\u001b[1;32m   3330\u001b[0m             \u001b[0;32mpass\u001b[0m\u001b[0;34m\u001b[0m\u001b[0;34m\u001b[0m\u001b[0m\n\u001b[1;32m   3331\u001b[0m         \u001b[0;32melse\u001b[0m\u001b[0;34m:\u001b[0m\u001b[0;34m\u001b[0m\u001b[0;34m\u001b[0m\u001b[0m\n\u001b[0;32m-> 3332\u001b[0;31m             \u001b[0;32mreturn\u001b[0m \u001b[0mmean\u001b[0m\u001b[0;34m(\u001b[0m\u001b[0maxis\u001b[0m\u001b[0;34m=\u001b[0m\u001b[0maxis\u001b[0m\u001b[0;34m,\u001b[0m \u001b[0mdtype\u001b[0m\u001b[0;34m=\u001b[0m\u001b[0mdtype\u001b[0m\u001b[0;34m,\u001b[0m \u001b[0mout\u001b[0m\u001b[0;34m=\u001b[0m\u001b[0mout\u001b[0m\u001b[0;34m,\u001b[0m \u001b[0;34m**\u001b[0m\u001b[0mkwargs\u001b[0m\u001b[0;34m)\u001b[0m\u001b[0;34m\u001b[0m\u001b[0;34m\u001b[0m\u001b[0m\n\u001b[0m\u001b[1;32m   3333\u001b[0m \u001b[0;34m\u001b[0m\u001b[0m\n\u001b[1;32m   3334\u001b[0m     return _methods._mean(a, axis=axis, dtype=dtype,\n",
      "\u001b[0;32m/opt/conda/lib/python3.7/site-packages/numpy/core/_methods.py\u001b[0m in \u001b[0;36m_mean\u001b[0;34m(a, axis, dtype, out, keepdims)\u001b[0m\n\u001b[1;32m    136\u001b[0m \u001b[0;34m\u001b[0m\u001b[0m\n\u001b[1;32m    137\u001b[0m     \u001b[0mis_float16_result\u001b[0m \u001b[0;34m=\u001b[0m \u001b[0;32mFalse\u001b[0m\u001b[0;34m\u001b[0m\u001b[0;34m\u001b[0m\u001b[0m\n\u001b[0;32m--> 138\u001b[0;31m     \u001b[0mrcount\u001b[0m \u001b[0;34m=\u001b[0m \u001b[0m_count_reduce_items\u001b[0m\u001b[0;34m(\u001b[0m\u001b[0marr\u001b[0m\u001b[0;34m,\u001b[0m \u001b[0maxis\u001b[0m\u001b[0;34m)\u001b[0m\u001b[0;34m\u001b[0m\u001b[0;34m\u001b[0m\u001b[0m\n\u001b[0m\u001b[1;32m    139\u001b[0m     \u001b[0;31m# Make this warning show up first\u001b[0m\u001b[0;34m\u001b[0m\u001b[0;34m\u001b[0m\u001b[0;34m\u001b[0m\u001b[0m\n\u001b[1;32m    140\u001b[0m     \u001b[0;32mif\u001b[0m \u001b[0mrcount\u001b[0m \u001b[0;34m==\u001b[0m \u001b[0;36m0\u001b[0m\u001b[0;34m:\u001b[0m\u001b[0;34m\u001b[0m\u001b[0;34m\u001b[0m\u001b[0m\n",
      "\u001b[0;32m/opt/conda/lib/python3.7/site-packages/numpy/core/_methods.py\u001b[0m in \u001b[0;36m_count_reduce_items\u001b[0;34m(arr, axis)\u001b[0m\n\u001b[1;32m     55\u001b[0m     \u001b[0mitems\u001b[0m \u001b[0;34m=\u001b[0m \u001b[0;36m1\u001b[0m\u001b[0;34m\u001b[0m\u001b[0;34m\u001b[0m\u001b[0m\n\u001b[1;32m     56\u001b[0m     \u001b[0;32mfor\u001b[0m \u001b[0max\u001b[0m \u001b[0;32min\u001b[0m \u001b[0maxis\u001b[0m\u001b[0;34m:\u001b[0m\u001b[0;34m\u001b[0m\u001b[0;34m\u001b[0m\u001b[0m\n\u001b[0;32m---> 57\u001b[0;31m         \u001b[0mitems\u001b[0m \u001b[0;34m*=\u001b[0m \u001b[0marr\u001b[0m\u001b[0;34m.\u001b[0m\u001b[0mshape\u001b[0m\u001b[0;34m[\u001b[0m\u001b[0max\u001b[0m\u001b[0;34m]\u001b[0m\u001b[0;34m\u001b[0m\u001b[0;34m\u001b[0m\u001b[0m\n\u001b[0m\u001b[1;32m     58\u001b[0m     \u001b[0;32mreturn\u001b[0m \u001b[0mitems\u001b[0m\u001b[0;34m\u001b[0m\u001b[0;34m\u001b[0m\u001b[0m\n\u001b[1;32m     59\u001b[0m \u001b[0;34m\u001b[0m\u001b[0m\n",
      "\u001b[0;31mTypeError\u001b[0m: tuple indices must be integers or slices, not numpy.float64"
     ]
    }
   ],
   "source": [
    "import random as r\n",
    "import numpy as np # GIF_RESULTS\n",
    "arr = []\n",
    "rand = np.random.RandomState(seed=23)\n",
    "\n",
    "for i in tqdm(range(10)):\n",
    "\n",
    "    data_source = rand.randn(200, 2)\n",
    "    data_desc =  np.concatenate((np.array([[0,0]]),data_source[:-1]))\n",
    "    resultsTE = np.mean(te.te_compute(data_source[:,0], data_desc[:,0], k=1, embedding=1, safetyCheck=True, GPU=False), te.te_compute(data_source[:,1], data_desc[:,1], k=1, embedding=1, safetyCheck=True, GPU=False)),\\\n",
    "                np.mean(te.te_compute(data_desc[:,0], data_source[:,0], k=1, embedding=1, safetyCheck=True, GPU=False), te.te_compute(data_desc[:,1], data_source[:,1], k=1, embedding=1, safetyCheck=True, GPU=False)) # \n",
    "    arr.append(resultsTE)\n",
    "    \n",
    "\n",
    "# computeTEandMakeGIF(data_source,data_desc, \"GIF_RESULTS/Scenario00\")\n"
   ]
  },
  {
   "cell_type": "code",
   "execution_count": 44,
   "metadata": {
    "ExecuteTime": {
     "end_time": "2020-12-29T20:12:50.738525Z",
     "start_time": "2020-12-29T20:12:50.732783Z"
    }
   },
   "outputs": [
    {
     "data": {
      "text/plain": [
       "((0.12644415174294057, 0.032971282519783374, 0.21991702096609778),\n",
       " (2.481667675743216, 2.4478755210389265, 2.5154598304475053))"
      ]
     },
     "execution_count": 44,
     "metadata": {},
     "output_type": "execute_result"
    }
   ],
   "source": [
    "mean_confidence_interval(np.array(arr)[:,0]), mean_confidence_interval(np.array(arr)[:,1])"
   ]
  },
  {
   "cell_type": "markdown",
   "metadata": {},
   "source": [
    "### 시나리오 1\n",
    "두 차량이 같은 속도로 가는 경우"
   ]
  },
  {
   "cell_type": "code",
   "execution_count": 70,
   "metadata": {
    "ExecuteTime": {
     "end_time": "2020-12-29T20:21:30.912396Z",
     "start_time": "2020-12-29T20:21:30.828072Z"
    }
   },
   "outputs": [
    {
     "data": {
      "text/plain": [
       "((0.010000000000000009, 0.010000000000000009, 0.010000000000000009),\n",
       " (0.0, 0.0, 0.0))"
      ]
     },
     "execution_count": 70,
     "metadata": {},
     "output_type": "execute_result"
    }
   ],
   "source": [
    "import numpy as np\n",
    "Vehicle1 = vehicle.Vehicle(x_pos = 0.0, y_pos = 0.0, angle= 45, speed = 2, noise = 0)\n",
    "Vehicle2 = vehicle.Vehicle(x_pos = -10.0, y_pos = -10.0, angle= 45, speed = 2, noise = 0)\n",
    "for i in range(200):\n",
    "#     if 140 < i <182:\n",
    "#         Vehicle2.accelerate(-0.2)\n",
    "\n",
    "#     if 150 < i <192:\n",
    "#         Vehicle1.accelerate(-0.2)\n",
    "    Vehicle1.move()\n",
    "    Vehicle2.move()\n",
    "#     Vehicle1.angle +=1\n",
    "#     if i > 5:\n",
    "#         Vehicle2.angle +=1\n",
    "arr = []     \n",
    "for i in range(10):\n",
    "#     resultsTE = computeTEpython(Vehicle1.trajectory, Vehicle2.trajectory)\n",
    "    resultsTE = TE.calc(Vehicle1.trajectory, Vehicle2.trajectory)\n",
    "    arr.append(resultsTE)\n",
    "mean_confidence_interval(np.array(arr)[:,0]), mean_confidence_interval(np.array(arr)[:,1])\n",
    "    \n",
    "# plt.figure(figsize=(5, 5))\n",
    "# Draw(Vehicle1, \"Vehicle1\",plt)\n",
    "# Draw(Vehicle2, \"Vehicle2\",plt)\n",
    "# plt.legend()\n",
    "# plt.axis([-100, 400, -100, 400])\n",
    "# # Draw(Vehicle3, plt)\n",
    "# plt.show()    \n",
    "\n",
    "# computeTEandMakeGIF(Vehicle1.trajectory,Vehicle2.trajectory, \"GIF_RESULTS/Scenario01(diagonal)_1\", [-300,300,0,600], Azorder= -1)\n",
    "    \n"
   ]
  },
  {
   "cell_type": "markdown",
   "metadata": {},
   "source": [
    "### 시나리오 1_1 circle"
   ]
  },
  {
   "cell_type": "code",
   "execution_count": 74,
   "metadata": {
    "ExecuteTime": {
     "end_time": "2020-12-29T20:23:29.667384Z",
     "start_time": "2020-12-29T20:23:28.860726Z"
    },
    "scrolled": true
   },
   "outputs": [
    {
     "data": {
      "application/vnd.jupyter.widget-view+json": {
       "model_id": "02c9e0b451f74af995cec26ecc97f571",
       "version_major": 2,
       "version_minor": 0
      },
      "text/plain": [
       "HBox(children=(FloatProgress(value=0.0), HTML(value='')))"
      ]
     },
     "metadata": {},
     "output_type": "display_data"
    },
    {
     "name": "stdout",
     "output_type": "stream",
     "text": [
      "\n",
      "(0.076958872221826, 0.06773344822062718, 0.08618429622302481)\n",
      "(0.0774694603264257, 0.06725867694160169, 0.0876802437112497)\n"
     ]
    }
   ],
   "source": [
    "import numpy as np\n",
    "from tqdm.notebook import tqdm\n",
    "\n",
    "\n",
    "A, B = [], []\n",
    "\n",
    "for i in tqdm(range(100)):\n",
    "\n",
    "\n",
    "    Vehicle1 = vehicle.Vehicle(x_pos = 0, y_pos = 0, angle= 0, speed = 4.2, noise = 1)\n",
    "    Vehicle2 = vehicle.Vehicle(x_pos = -20, y_pos = 0, angle= 0, speed = 4.2, noise = 1)\n",
    "\n",
    "    # Vehicle1 = vehicle.Vehicle(x_pos = 0.0, y_pos = 0.0, angle= 90, speed = 10, noise = 0.5)\n",
    "    # Vehicle2 = vehicle.Vehicle(x_pos = 0.0, y_pos = -21.0, angle= 90, speed = 10, noise = 0.5)\n",
    "    for i in range(200):\n",
    "    #     if 140 < i <182:\n",
    "    #         Vehicle2.accelerate(-0.2)\n",
    "\n",
    "    #     if 150 < i <192:\n",
    "    #         Vehicle1.accelerate(-0.2)\n",
    "        Vehicle1.move()\n",
    "        Vehicle2.move()\n",
    "#         Vehicle1.angle +=1\n",
    "#         if i > 5:\n",
    "#             Vehicle2.angle +=1\n",
    "\n",
    "\n",
    "\n",
    "#     plt.figure(figsize=(5, 5))\n",
    "#     Draw(Vehicle1, \"Vehicle1\",plt)\n",
    "#     Draw(Vehicle2, \"Vehicle2\",plt)\n",
    "#     plt.legend()\n",
    "#     plt.axis([-0, 1000, -200, 1000])\n",
    "#     # Draw(Vehicle3, plt)\n",
    "#     plt.show()    \n",
    "    resultsTE = computeTEpython(Vehicle1.trajectory, Vehicle2.trajectory)\n",
    "    A.append(resultsTE[0])\n",
    "    B.append(resultsTE[1])\n",
    "# computeTEandMakeGIF(Vehicle1.trajectory,Vehicle2.trajectory, \"GIF_RESULTS/Scenario01(circle)_noise_0\", [-1500, 100, -200, 1000], Azorder= -1)\n",
    "    \n",
    "print(mean_confidence_interval(A))\n",
    "print(mean_confidence_interval(B))\n"
   ]
  },
  {
   "cell_type": "code",
   "execution_count": 29,
   "metadata": {
    "ExecuteTime": {
     "end_time": "2020-12-22T14:05:59.419659Z",
     "start_time": "2020-12-22T14:05:59.414945Z"
    }
   },
   "outputs": [
    {
     "name": "stdout",
     "output_type": "stream",
     "text": [
      "(0.03914503035162855, 0.031201241159374678, 0.04708881954388242)\n",
      "(0.029476585270999188, 0.02340324704564713, 0.03554992349635125)\n"
     ]
    }
   ],
   "source": [
    "    \n",
    "print(mean_confidence_interval(A,confidence = 0.99))\n",
    "print(mean_confidence_interval(B,confidence = 0.95))"
   ]
  },
  {
   "cell_type": "code",
   "execution_count": 25,
   "metadata": {
    "ExecuteTime": {
     "end_time": "2020-12-22T14:05:03.207001Z",
     "start_time": "2020-12-22T14:05:03.110359Z"
    }
   },
   "outputs": [
    {
     "data": {
      "image/png": "[encoded data removed]",
      "text/plain": [
       "<Figure size 432x288 with 1 Axes>"
      ]
     },
     "metadata": {
      "needs_background": "light"
     },
     "output_type": "display_data"
    }
   ],
   "source": [
    "plt.scatter(A,A, s = 5)\n",
    "plt.scatter([0.02143762126486613, 0.03751554927713224],[0.02143762126486613, 0.03751554927713224], color = 'red')\n",
    "\n",
    "plt.show()"
   ]
  },
  {
   "cell_type": "code",
   "execution_count": 33,
   "metadata": {
    "ExecuteTime": {
     "end_time": "2020-12-22T14:15:52.611843Z",
     "start_time": "2020-12-22T14:15:52.605717Z"
    }
   },
   "outputs": [
    {
     "name": "stdout",
     "output_type": "stream",
     "text": [
      "(4.204545454545454, -0.2884776322378295, 8.697568541328739)\n"
     ]
    }
   ],
   "source": [
    "print(mean_confidence_interval([1,2,2,2,2,2,2,2,2,2,2,2,2,2,2,2,2,2,2,2,2,2,2,2,2,2,2,2,2,2,2,2,2,2,2,2,2,2,2,2,2,2,2,100],confidence = 0.95))"
   ]
  },
  {
   "cell_type": "markdown",
   "metadata": {},
   "source": [
    "### 시나리오 2\n",
    "두 차량이 같은 속도로 가다 앞차량(desc)의 속도가 줄고 그 후에 뒤차량(source)의 속도가 주는 경우 경우"
   ]
  },
  {
   "cell_type": "code",
   "execution_count": 12,
   "metadata": {
    "ExecuteTime": {
     "end_time": "2020-12-31T15:44:26.462725Z",
     "start_time": "2020-12-31T15:44:26.455344Z"
    }
   },
   "outputs": [],
   "source": [
    "def computeTEpython(data_source, data_desc):\n",
    "    data_source = np.array(data_source)\n",
    "    data_desc = np.array(data_desc)\n",
    "    TE = max(te.te_compute(data_source[:,0], data_desc[:,0], k=1, embedding=1, safetyCheck=True, GPU=False), te.te_compute(data_source[:,1], data_desc[:,1], k=1, embedding=1, safetyCheck=True, GPU=False))/2.0,\\\n",
    "                max(te.te_compute(data_desc[:,0], data_source[:,0], k=1, embedding=1, safetyCheck=True, GPU=False), te.te_compute(data_desc[:,1], data_source[:,1], k=1, embedding=1, safetyCheck=True, GPU=False))/2.0 # \n",
    "    return TE"
   ]
  },
  {
   "cell_type": "code",
   "execution_count": 4,
   "metadata": {
    "ExecuteTime": {
     "end_time": "2020-12-29T22:49:30.411456Z",
     "start_time": "2020-12-29T22:49:30.406238Z"
    }
   },
   "outputs": [],
   "source": [
    "def computeTEpython(data_source, data_desc):\n",
    "    data_source = np.array(data_source)\n",
    "    data_desc = np.array(data_desc)\n",
    "    TE = (te.te_compute(data_source.flatten(), data_desc.flatten(), k=1, embedding=1, safetyCheck=True, GPU=False), te.te_compute(data_desc.flatten(), data_source.flatten(), k=1, embedding=1, safetyCheck=True, GPU=False))\n",
    "         \n",
    "    return TE"
   ]
  },
  {
   "cell_type": "code",
   "execution_count": 153,
   "metadata": {
    "ExecuteTime": {
     "end_time": "2020-12-29T22:44:33.580285Z",
     "start_time": "2020-12-29T22:44:33.573035Z"
    }
   },
   "outputs": [],
   "source": [
    "def P_TE(arr1, arr2,k=1,embedding = 1, safetyCheck=True, GPU=False):\n",
    "    return max(te.te_compute(arr1, arr2, k=k, embedding=embedding, safetyCheck=safetyCheck, GPU=GPU),0)\n",
    "\n",
    "def computeTEpython(data_source, data_desc):\n",
    "    data_source = np.array(data_source)\n",
    "    data_desc = np.array(data_desc)\n",
    "    TE = np.mean([P_TE(data_source[:,0], data_desc[:,0]), P_TE(data_source[:,1], data_desc[:,1])]),\\\n",
    "         np.mean([P_TE(data_desc[:,0], data_source[:,0]), P_TE(data_desc[:,1], data_source[:,1])]) # \n",
    "#     print(TE)\n",
    "    return TE"
   ]
  },
  {
   "cell_type": "code",
   "execution_count": 8,
   "metadata": {
    "ExecuteTime": {
     "end_time": "2020-12-29T22:51:03.356373Z",
     "start_time": "2020-12-29T22:50:30.366504Z"
    },
    "scrolled": false
   },
   "outputs": [
    {
     "data": {
      "application/vnd.jupyter.widget-view+json": {
       "model_id": "22c78860389d4d22bc5b077825fda52b",
       "version_major": 2,
       "version_minor": 0
      },
      "text/plain": [
       "HBox(children=(FloatProgress(value=0.0, max=50.0), HTML(value='')))"
      ]
     },
     "metadata": {},
     "output_type": "display_data"
    },
    {
     "name": "stdout",
     "output_type": "stream",
     "text": [
      "\n"
     ]
    },
    {
     "ename": "NameError",
     "evalue": "name 'mean_confidence_interval' is not defined",
     "output_type": "error",
     "traceback": [
      "\u001b[0;31m---------------------------------------------------------------------------\u001b[0m",
      "\u001b[0;31mNameError\u001b[0m                                 Traceback (most recent call last)",
      "\u001b[0;32m<ipython-input-8-c9c22c43d9a2>\u001b[0m in \u001b[0;36m<module>\u001b[0;34m\u001b[0m\n\u001b[1;32m     41\u001b[0m \u001b[0;31m# # computeTEandMakeGIF(Vehicle1.trajectory,Vehicle2.trajectory, \"GIF_RESULTS/Scenario02(noise1_0)\", [-100,400,-100,500], fps = 20)\u001b[0m\u001b[0;34m\u001b[0m\u001b[0;34m\u001b[0m\u001b[0;34m\u001b[0m\u001b[0m\n\u001b[1;32m     42\u001b[0m \u001b[0;34m\u001b[0m\u001b[0m\n\u001b[0;32m---> 43\u001b[0;31m \u001b[0mprint\u001b[0m\u001b[0;34m(\u001b[0m\u001b[0mmean_confidence_interval\u001b[0m\u001b[0;34m(\u001b[0m\u001b[0mA\u001b[0m\u001b[0;34m)\u001b[0m\u001b[0;34m,\u001b[0m \u001b[0mmean_confidence_interval\u001b[0m\u001b[0;34m(\u001b[0m\u001b[0mB\u001b[0m\u001b[0;34m)\u001b[0m\u001b[0;34m)\u001b[0m\u001b[0;34m\u001b[0m\u001b[0;34m\u001b[0m\u001b[0m\n\u001b[0m\u001b[1;32m     44\u001b[0m \u001b[0mprint\u001b[0m\u001b[0;34m(\u001b[0m\u001b[0mmean_confidence_interval\u001b[0m\u001b[0;34m(\u001b[0m\u001b[0mA2\u001b[0m\u001b[0;34m)\u001b[0m\u001b[0;34m,\u001b[0m \u001b[0mmean_confidence_interval\u001b[0m\u001b[0;34m(\u001b[0m\u001b[0mB2\u001b[0m\u001b[0;34m)\u001b[0m\u001b[0;34m)\u001b[0m\u001b[0;34m\u001b[0m\u001b[0;34m\u001b[0m\u001b[0m\n",
      "\u001b[0;31mNameError\u001b[0m: name 'mean_confidence_interval' is not defined"
     ]
    }
   ],
   "source": [
    "import numpy as np\n",
    "A = []\n",
    "B = []\n",
    "\n",
    "A2 = []\n",
    "B2 = []\n",
    "for j in tqdm(range(50)):\n",
    "    Vehicle1 = vehicle.Vehicle(x_pos = 0, y_pos = 40, angle= 90, speed = 2.2, noise = 0.5)\n",
    "    Vehicle2 = vehicle.Vehicle(x_pos = 0, y_pos = 0, angle= 90, speed = 2.2, noise = 0.5)\n",
    "\n",
    "    for i in range(200):\n",
    "#         if 160 < i <182:\n",
    "#             Vehicle2.accelerate(-0.1)\n",
    "\n",
    "#         if 140 < i <162:\n",
    "#             Vehicle1.accelerate(-0.1)\n",
    "        Vehicle1.move()\n",
    "        Vehicle2.move()\n",
    "    #     Vehicle1.angle +=1\n",
    "    #     Vehicle2.angle +=1\n",
    "\n",
    "\n",
    "    \n",
    "#     resultsTE = TE.calc(Vehicle1.trajectory, Vehicle2.trajectory)\n",
    "    resultsTE = computeTEpython(Vehicle1.trajectory, Vehicle2.trajectory)\n",
    "#     print(resultsTE)\n",
    "    A.append(resultsTE[0])\n",
    "    B.append(resultsTE[1])\n",
    "\n",
    "    resultsTE2 = TE.calc(Vehicle1.trajectory, Vehicle2.trajectory)\n",
    "    A2.append(resultsTE2[0])\n",
    "    B2.append(resultsTE2[1])\n",
    "\n",
    "# plt.figure(figsize=(5, 5))\n",
    "# Draw(Vehicle2, \"Vehicle2\",plt)\n",
    "# Draw(Vehicle1, \"Vehicle1\",plt)\n",
    "# plt.legend()\n",
    "# plt.axis([-100,400,-100,600])\n",
    "# # Draw(Vehicle3, plt)\n",
    "# plt.show()    \n",
    "# # computeTEandMakeGIF(Vehicle1.trajectory,Vehicle2.trajectory, \"GIF_RESULTS/Scenario02(noise1_0)\", [-100,400,-100,500], fps = 20)\n",
    "    \n",
    "print(mean_confidence_interval(A), mean_confidence_interval(B))\n",
    "print(mean_confidence_interval(A2), mean_confidence_interval(B2))\n"
   ]
  },
  {
   "cell_type": "code",
   "execution_count": 10,
   "metadata": {
    "ExecuteTime": {
     "end_time": "2020-12-29T22:51:34.821206Z",
     "start_time": "2020-12-29T22:51:34.815359Z"
    }
   },
   "outputs": [
    {
     "name": "stdout",
     "output_type": "stream",
     "text": [
      "(0.5707266766065419, 0.5351479893652791, 0.6063053638478046) (0.5834038265639642, 0.5478885915230169, 0.6189190616049114)\n",
      "(0.031194347505669934, 0.023274219837933895, 0.03911447517340597) (0.033588666895567706, 0.024587039718925216, 0.0425902940722102)\n"
     ]
    }
   ],
   "source": [
    "    \n",
    "print(mean_confidence_interval(A), mean_confidence_interval(B))\n",
    "print(mean_confidence_interval(A2), mean_confidence_interval(B2))"
   ]
  },
  {
   "cell_type": "code",
   "execution_count": 62,
   "metadata": {
    "ExecuteTime": {
     "end_time": "2020-12-29T22:23:21.494949Z",
     "start_time": "2020-12-29T22:23:21.486078Z"
    }
   },
   "outputs": [
    {
     "ename": "TypeError",
     "evalue": "'float' object is not iterable",
     "output_type": "error",
     "traceback": [
      "\u001b[0;31m---------------------------------------------------------------------------\u001b[0m",
      "\u001b[0;31mTypeError\u001b[0m                                 Traceback (most recent call last)",
      "\u001b[0;32m<ipython-input-62-2531143095a0>\u001b[0m in \u001b[0;36m<module>\u001b[0;34m\u001b[0m\n\u001b[0;32m----> 1\u001b[0;31m \u001b[0msum\u001b[0m\u001b[0;34m(\u001b[0m\u001b[0;36m0.156465\u001b[0m\u001b[0;34m,\u001b[0m \u001b[0;36m0.156749\u001b[0m\u001b[0;34m)\u001b[0m\u001b[0;34m\u001b[0m\u001b[0;34m\u001b[0m\u001b[0m\n\u001b[0m",
      "\u001b[0;31mTypeError\u001b[0m: 'float' object is not iterable"
     ]
    }
   ],
   "source": [
    "sum(0.156465, 0.156749)"
   ]
  },
  {
   "cell_type": "code",
   "execution_count": 104,
   "metadata": {
    "ExecuteTime": {
     "end_time": "2020-12-22T01:32:16.558589Z",
     "start_time": "2020-12-22T01:32:16.555012Z"
    }
   },
   "outputs": [
    {
     "data": {
      "text/plain": [
       "(0.020736416352848286, 0.00712980367585625)"
      ]
     },
     "execution_count": 104,
     "metadata": {},
     "output_type": "execute_result"
    }
   ],
   "source": [
    "resultsTE"
   ]
  },
  {
   "cell_type": "code",
   "execution_count": 91,
   "metadata": {
    "ExecuteTime": {
     "end_time": "2020-12-22T01:23:33.432850Z",
     "start_time": "2020-12-22T01:23:33.428852Z"
    }
   },
   "outputs": [
    {
     "data": {
      "text/plain": [
       "(0.030397114355563096, 0.03342769473370252)"
      ]
     },
     "execution_count": 91,
     "metadata": {},
     "output_type": "execute_result"
    }
   ],
   "source": [
    "sum(A)/100, sum(B) / 100"
   ]
  },
  {
   "cell_type": "code",
   "execution_count": 16,
   "metadata": {
    "ExecuteTime": {
     "end_time": "2020-12-22T00:34:09.565527Z",
     "start_time": "2020-12-22T00:34:09.561354Z"
    }
   },
   "outputs": [
    {
     "data": {
      "text/plain": [
       "0.036937674658212745"
      ]
     },
     "execution_count": 16,
     "metadata": {},
     "output_type": "execute_result"
    }
   ],
   "source": [
    "np.mean(A)"
   ]
  },
  {
   "cell_type": "code",
   "execution_count": 112,
   "metadata": {
    "ExecuteTime": {
     "end_time": "2020-12-22T00:22:48.354770Z",
     "start_time": "2020-12-22T00:22:31.028528Z"
    }
   },
   "outputs": [
    {
     "name": "stdout",
     "output_type": "stream",
     "text": [
      "source to desc :  0.0015538088454749577\n",
      "desc to source :  0.03670534243854018\n",
      "source to desc :  0.0070093898784575615\n",
      "desc to source :  0.008961040786698682\n",
      "source to desc :  0.0019381533101039405\n",
      "desc to source :  0.07219415316107103\n",
      "source to desc :  0.050571225690030586\n",
      "desc to source :  0.008599786289659628\n",
      "source to desc :  0.03350750692011584\n",
      "desc to source :  0.005974025974025965\n",
      "source to desc :  0.06471811486795453\n",
      "desc to source :  0.009475709475709193\n",
      "source to desc :  0.04896595378520319\n",
      "desc to source :  0.03251126589115416\n",
      "source to desc :  0.008101851851851194\n",
      "desc to source :  0.009044160836439774\n",
      "source to desc :  0.04135811807240386\n",
      "desc to source :  0.014504175440265277\n",
      "source to desc :  0.04757140542135918\n",
      "desc to source :  0.0459050318000469\n",
      "source to desc :  0.03131203141314365\n",
      "desc to source :  0.008527131782945174\n",
      "source to desc :  0.016394789850671998\n",
      "desc to source :  0.10861675132403548\n",
      "source to desc :  -0.0006463144698438672\n",
      "desc to source :  0.0136059030541269\n",
      "source to desc :  0.01771537880809393\n",
      "desc to source :  0.06252986379480618\n",
      "source to desc :  0.13766518761298752\n",
      "desc to source :  0.014719249426696113\n",
      "source to desc :  0.015599767272731713\n",
      "desc to source :  0.11935509627086205\n",
      "source to desc :  0.026511715704705008\n",
      "desc to source :  -8.881784197001252e-16\n",
      "source to desc :  0.027323438195219873\n",
      "desc to source :  0.03846755709338523\n",
      "source to desc :  0.00991973202451124\n",
      "desc to source :  0.06111886707595171\n",
      "source to desc :  0.0032700421940925484\n",
      "desc to source :  0.012236764447493664\n",
      "source to desc :  0.03380717709244263\n",
      "desc to source :  0.030309857440539156\n",
      "source to desc :  0.010840024581746377\n",
      "desc to source :  0.00605511118756108\n",
      "source to desc :  0.05395019776560872\n",
      "desc to source :  0.010908162960858725\n",
      "source to desc :  0.06438355452911271\n",
      "desc to source :  0.034858160456564535\n",
      "source to desc :  0.09127851453303037\n",
      "desc to source :  0.012519933388625892\n",
      "source to desc :  0.020623960097154725\n",
      "desc to source :  0.04618643903858932\n",
      "source to desc :  0.029785771423493923\n",
      "desc to source :  0.025363299894549884\n",
      "source to desc :  0.05140595220380595\n",
      "desc to source :  0.002777777777777324\n",
      "source to desc :  0.1517472120355956\n",
      "desc to source :  0.00878293003293007\n",
      "source to desc :  0.07476271256742617\n",
      "desc to source :  0.013590262091078165\n",
      "source to desc :  0.01591002167550659\n",
      "desc to source :  0.005240197624303056\n",
      "source to desc :  0.018826218340053158\n",
      "desc to source :  0.011576656368322613\n",
      "source to desc :  -8.881784197001252e-16\n",
      "desc to source :  0.02823119050237577\n",
      "source to desc :  0.09403544958091548\n",
      "desc to source :  0.014907989202619598\n",
      "source to desc :  0.03467254326198188\n",
      "desc to source :  0.0190194725909012\n",
      "source to desc :  0.03963176040554872\n",
      "desc to source :  0.020212593313858385\n",
      "source to desc :  -8.881784197001252e-16\n",
      "desc to source :  0.03408989537859397\n",
      "source to desc :  0.046987848129862675\n",
      "desc to source :  0.002004219409282193\n",
      "source to desc :  -0.0006183032653623854\n",
      "desc to source :  0.040016266976709236\n",
      "source to desc :  0.01475591958546496\n",
      "desc to source :  0.01722149759151903\n",
      "source to desc :  -0.0008438818565403849\n",
      "desc to source :  0.03020630482146891\n",
      "source to desc :  0.04206405692918236\n",
      "desc to source :  0.0017361111111107164\n",
      "source to desc :  0.002941176470588003\n",
      "desc to source :  0.08803427954542631\n",
      "source to desc :  0.015582748083784903\n",
      "desc to source :  0.011261130468447123\n",
      "source to desc :  0.035726435179634475\n",
      "desc to source :  0.013061570175711301\n",
      "source to desc :  0.015399230399230524\n",
      "desc to source :  0.02907580520587838\n",
      "source to desc :  0.05777275415360816\n",
      "desc to source :  0.005411255411255311\n",
      "source to desc :  0.02175494920643395\n",
      "desc to source :  0.02830170988800762\n",
      "source to desc :  0.06608291528707633\n",
      "desc to source :  0.037012570762570585\n",
      "source to desc :  0.04175869692020573\n",
      "desc to source :  0.028670530062152588\n",
      "source to desc :  0.02810923010972277\n",
      "desc to source :  0.03157821384078385\n",
      "source to desc :  0.11291454930458533\n",
      "desc to source :  0.010095551378445533\n",
      "source to desc :  0.06249560846736024\n",
      "desc to source :  0.017865134162601715\n",
      "source to desc :  0.04458758170472121\n",
      "desc to source :  0.019885836521866374\n",
      "source to desc :  0.0292310949919643\n",
      "desc to source :  0.07152174151620239\n",
      "source to desc :  0.007517636684303053\n",
      "desc to source :  0.01775843755010431\n",
      "source to desc :  0.12703571216574394\n",
      "desc to source :  0.0034351740574207756\n",
      "source to desc :  0.06653560619201437\n",
      "desc to source :  0.007339220123310675\n",
      "source to desc :  0.0028246252204580102\n",
      "desc to source :  0.005227841062994232\n",
      "source to desc :  0.010281886323552536\n",
      "desc to source :  0.04265315709268114\n",
      "source to desc :  0.04812309182263541\n",
      "desc to source :  0.04379528114611597\n",
      "source to desc :  0.04297128399112271\n",
      "desc to source :  0.00671296296296231\n",
      "source to desc :  0.04066266401517682\n",
      "desc to source :  0.0021990740740738257\n",
      "source to desc :  0.09003541684048666\n",
      "desc to source :  0.029464495452867556\n",
      "source to desc :  0.034570078304255736\n",
      "desc to source :  0.009096845489250605\n",
      "source to desc :  0.03139385020426233\n",
      "desc to source :  0.05679073797623846\n",
      "source to desc :  0.001969057665259788\n",
      "desc to source :  0.1773048107227202\n",
      "source to desc :  0.033781533333953506\n",
      "desc to source :  0.08525670984616807\n",
      "source to desc :  0.0422025038643703\n",
      "desc to source :  0.017815806878306972\n",
      "source to desc :  0.043821409961463775\n",
      "desc to source :  0.06039275598498528\n",
      "source to desc :  0.008965139973259983\n",
      "desc to source :  0.01837873311383187\n",
      "source to desc :  0.055093808322748794\n",
      "desc to source :  0.01547388335179023\n",
      "source to desc :  0.02972957597957593\n",
      "desc to source :  0.07375931706658712\n",
      "source to desc :  0.0481576493621656\n",
      "desc to source :  0.04593123232081542\n",
      "source to desc :  0.057751596045369835\n",
      "desc to source :  0.006256012506012265\n",
      "source to desc :  0.009969406757115884\n",
      "desc to source :  0.07277809924733636\n",
      "source to desc :  -8.881784197001252e-16\n",
      "desc to source :  0.059042013186257014\n",
      "source to desc :  0.01792051086168711\n",
      "desc to source :  0.044415714355172664\n",
      "source to desc :  0.17221624282014303\n",
      "desc to source :  0.009997813634177177\n",
      "source to desc :  0.005196214273421429\n",
      "desc to source :  0.09586529016700784\n",
      "source to desc :  0.05548843789643332\n",
      "desc to source :  0.055691858647006764\n",
      "source to desc :  0.005276522910696357\n",
      "desc to source :  0.053130889644538604\n",
      "source to desc :  0.02833946121262776\n",
      "desc to source :  0.005276839065592398\n",
      "source to desc :  0.016090885858327297\n",
      "desc to source :  0.008189060154822236\n",
      "source to desc :  0.004458450046685325\n",
      "desc to source :  0.07146395363516533\n",
      "source to desc :  0.01232087742504362\n",
      "desc to source :  0.019738799200550883\n",
      "source to desc :  0.03216207971383733\n",
      "desc to source :  0.013791211779431878\n",
      "source to desc :  0.017385705470460255\n",
      "desc to source :  0.008112544979633318\n",
      "source to desc :  0.022061482820975975\n",
      "desc to source :  0.025525371253219076\n",
      "source to desc :  0.00036577900214185277\n",
      "desc to source :  0.04035466353806472\n",
      "source to desc :  0.016057213573769546\n",
      "desc to source :  0.04421799906765278\n",
      "source to desc :  0.004580723118314589\n",
      "desc to source :  0.055296542945151295\n",
      "source to desc :  0.06866770197990335\n",
      "desc to source :  0.007623777988016167\n",
      "source to desc :  0.0769574898323393\n",
      "desc to source :  0.0018282669711242594\n",
      "source to desc :  0.03781488846652881\n",
      "desc to source :  0.019971907177789294\n",
      "source to desc :  0.03805502493662627\n",
      "desc to source :  0.0341127727491366\n",
      "source to desc :  0.013108539505187089\n",
      "desc to source :  0.04183809182389009\n",
      "source to desc :  0.06103266377870398\n",
      "desc to source :  0.019199134199133994\n",
      "source to desc :  0.041403825573075315\n",
      "desc to source :  0.013928529480854879\n",
      "source to desc :  0.0033978174603173095\n",
      "desc to source :  0.020154388739915596\n"
     ]
    },
    {
     "data": {
      "text/plain": [
       "(0.03596477048710753, 0.030572295568732786)"
      ]
     },
     "execution_count": 112,
     "metadata": {},
     "output_type": "execute_result"
    }
   ],
   "source": [
    "A = []\n",
    "B = []\n",
    "for i in range(100):\n",
    "    Vehicle1 = vehicle.Vehicle(x_pos = 0, y_pos = 0, angle= 90, speed = 2.2, noise = 1)\n",
    "    Vehicle2 = vehicle.Vehicle(x_pos = 0, y_pos = -50, angle= 90, speed = 2.2, noise = 1)\n",
    "\n",
    "    for i in range(200):\n",
    "        if 160 < i <182:\n",
    "            Vehicle2.accelerate(-0.1)\n",
    "\n",
    "        if 140 < i <162:\n",
    "            Vehicle1.accelerate(-0.1)\n",
    "        Vehicle1.move()\n",
    "        Vehicle2.move()\n",
    "    #     Vehicle1.angle +=1\n",
    "    #     Vehicle2.angle +=1\n",
    "\n",
    "\n",
    "    \n",
    "    resultsTE = TE.calc(Vehicle1.trajectory, Vehicle2.trajectory)\n",
    "\n",
    "    A.append(resultsTE[0])\n",
    "    B.append(resultsTE[1])\n",
    "\n",
    "sum(A)/100, sum(B) / 100"
   ]
  },
  {
   "cell_type": "code",
   "execution_count": null,
   "metadata": {},
   "outputs": [],
   "source": []
  },
  {
   "cell_type": "markdown",
   "metadata": {},
   "source": [
    "### 시나리오 2.1\n",
    "두 차량이 같은 속도로 가다 앞차량(Vehicle2)의 속도가 줄고 그 후에 뒤차량(Vehicle1)의 속도가 주는 경우 경우( 두차량의 거리가 가까운 경우)"
   ]
  },
  {
   "cell_type": "code",
   "execution_count": 20,
   "metadata": {
    "ExecuteTime": {
     "end_time": "2020-12-29T22:52:58.398990Z",
     "start_time": "2020-12-29T22:52:58.288711Z"
    },
    "scrolled": true
   },
   "outputs": [
    {
     "data": {
      "application/vnd.jupyter.widget-view+json": {
       "model_id": "e0b8a0a082d345d99b7f8f6e0f3ceb8d",
       "version_major": 2,
       "version_minor": 0
      },
      "text/plain": [
       "HBox(children=(FloatProgress(value=0.0, max=12.0), HTML(value='')))"
      ]
     },
     "metadata": {},
     "output_type": "display_data"
    },
    {
     "name": "stdout",
     "output_type": "stream",
     "text": [
      "\n"
     ]
    },
    {
     "data": {
      "text/plain": [
       "(1.1548699845150827, 1.1029513781433125)"
      ]
     },
     "execution_count": 20,
     "metadata": {},
     "output_type": "execute_result"
    }
   ],
   "source": [
    "import numpy as np\n",
    "\n",
    "A, B = [], []\n",
    "\n",
    "for _ in tqdm(range(12)):\n",
    "    Vehicle1 = vehicle.Vehicle(x_pos = 0, y_pos = 0, angle= 0, speed = 2.2, noise = 1)\n",
    "    Vehicle2 = vehicle.Vehicle(x_pos = -50,y_pos = 0, angle= 0, speed = 2.2, noise = 1)\n",
    "\n",
    "    for i in range(200):\n",
    "        if 150< i <171:\n",
    "            Vehicle1.accelerate(-0.1)\n",
    "\n",
    "        if 166< i <186:\n",
    "            Vehicle2.accelerate(-0.1)\n",
    "        Vehicle1.move()\n",
    "        Vehicle2.move()\n",
    "        Vehicle1.angle +=1\n",
    "        if i > 23:\n",
    "            Vehicle2.angle +=1\n",
    "\n",
    "\n",
    "#     plt.figure(figsize=(5, 5))\n",
    "#     Draw(Vehicle1, \"Vehicle1\",plt)\n",
    "#     Draw(Vehicle2, \"Vehicle2\",plt)\n",
    "#     plt.legend()\n",
    "#     plt.axis([-100, 600, -200, 1000])\n",
    "#     # Draw(Vehicle3, plt)\n",
    "#     plt.show()    \n",
    "\n",
    "    resultsTE = computeTEpython(Vehicle1.trajectory, Vehicle2.trajectory)\n",
    "    resultsTE\n",
    "    \n",
    "    # computeTEandMakeGIF(Vehicle1.trajectory,Vehicle2.trajectory, \"GIF_RESULTS/Scenario02(circle)_small_noise\", [-100, 600, -200, 1000], Azorder= -1)\n",
    "\n",
    "    A.append(resultsTE[0])\n",
    "    B.append(resultsTE[1])\n",
    "np.mean(A), np.mean(B)\n",
    "sum(A)/12, sum(B) / 12\n"
   ]
  },
  {
   "cell_type": "code",
   "execution_count": 41,
   "metadata": {
    "ExecuteTime": {
     "end_time": "2020-12-22T00:50:59.009480Z",
     "start_time": "2020-12-22T00:50:38.309150Z"
    }
   },
   "outputs": [
    {
     "name": "stdout",
     "output_type": "stream",
     "text": [
      "(0.021013849020177888, -8.881784197001252e-16)\n"
     ]
    },
    {
     "data": {
      "application/vnd.jupyter.widget-view+json": {
       "model_id": "8f132b985de74414a782fa6259e8ef33",
       "version_major": 2,
       "version_minor": 0
      },
      "text/plain": [
       "HBox(children=(FloatProgress(value=0.0, max=200.0), HTML(value='')))"
      ]
     },
     "metadata": {},
     "output_type": "display_data"
    },
    {
     "name": "stdout",
     "output_type": "stream",
     "text": [
      "\n"
     ]
    }
   ],
   "source": [
    "computeTEandMakeGIF(Vehicle1.trajectory,Vehicle2.trajectory, \"GIF_RESULTS/Scenario02(circle)_small_noise_1\", [-100, 600, -200, 1000], Azorder= -1, fps = 20)"
   ]
  },
  {
   "cell_type": "markdown",
   "metadata": {},
   "source": [
    "### 시나리오 2.2\n",
    "두 차량이 같은 속도로 가다 앞차량(Vehicle2)의 속도가 줄고 그 후에 뒤차량(Vehicle1)의 속도가 주는 경우 경우( 두차량의 거리가 가까운 경우 + noise 추가)"
   ]
  },
  {
   "cell_type": "code",
   "execution_count": 32,
   "metadata": {
    "ExecuteTime": {
     "end_time": "2020-12-21T16:39:07.375356Z",
     "start_time": "2020-12-21T16:39:06.837179Z"
    }
   },
   "outputs": [
    {
     "data": {
      "image/png": "[encoded data removed]",
      "text/plain": [
       "<Figure size 360x360 with 1 Axes>"
      ]
     },
     "metadata": {
      "needs_background": "light"
     },
     "output_type": "display_data"
    },
    {
     "name": "stdout",
     "output_type": "stream",
     "text": [
      "source to desc :  0.04236910682855033\n",
      "desc to source :  0.013048299553981124\n"
     ]
    },
    {
     "data": {
      "text/plain": [
       "(0.04236910682855033, 0.013048299553981124)"
      ]
     },
     "execution_count": 32,
     "metadata": {},
     "output_type": "execute_result"
    }
   ],
   "source": [
    "import numpy as np\n",
    "\n",
    "Vehicle1 = vehicle.Vehicle(x_pos = 0, y_pos = 0, angle= 90, speed = 2.2, noise = 1)\n",
    "Vehicle2 = vehicle.Vehicle(x_pos = 0, y_pos = 40, angle= 90, speed = 2.2, noise = 1)\n",
    "# Vehicle3 = vehicle.Vehicle(x_pos = 350, y_pos = 800, angle= 270, speed = 10)\n",
    "for i in range(200):\n",
    "    if 100 < i <120:\n",
    "        Vehicle2.accelerate(-0.1)\n",
    "\n",
    "    if 105 < i <125:\n",
    "        Vehicle1.accelerate(-0.1)\n",
    "        \n",
    "    Vehicle1.move()\n",
    "    Vehicle2.move()\n",
    "#     Vehicle3.move()\n",
    "\n",
    "plt.figure(figsize=(5, 5))\n",
    "Draw(Vehicle1, \"Vehicle1\",plt)\n",
    "Draw(Vehicle2, \"Vehicle2\",plt)\n",
    "plt.legend()\n",
    "plt.xlim(-300,300)\n",
    "# Draw(Vehicle3, plt)\n",
    "plt.show()\n",
    "TE.calc(Vehicle1.trajectory, Vehicle2.trajectory) # calc(data_source, data_desc)"
   ]
  },
  {
   "cell_type": "markdown",
   "metadata": {},
   "source": [
    "### 시나리오 3\n",
    "멈춰있는 차량(Vehicle1)을 향해 Vehicle2가 가다가 멈춤"
   ]
  },
  {
   "cell_type": "code",
   "execution_count": 57,
   "metadata": {
    "ExecuteTime": {
     "end_time": "2020-12-22T00:58:17.656427Z",
     "start_time": "2020-12-22T00:57:57.701299Z"
    }
   },
   "outputs": [
    {
     "data": {
      "application/vnd.jupyter.widget-view+json": {
       "model_id": "1c2cf3b2f05b40bfaf1e6d6885b894a8",
       "version_major": 2,
       "version_minor": 0
      },
      "text/plain": [
       "HBox(children=(FloatProgress(value=0.0), HTML(value='')))"
      ]
     },
     "metadata": {},
     "output_type": "display_data"
    },
    {
     "name": "stdout",
     "output_type": "stream",
     "text": [
      "\n"
     ]
    },
    {
     "data": {
      "text/plain": [
       "(0.03950281667911243, 0.029860672145254716)"
      ]
     },
     "execution_count": 57,
     "metadata": {},
     "output_type": "execute_result"
    }
   ],
   "source": [
    "import numpy as np\n",
    "\n",
    "\n",
    "\n",
    "A, B = [], []\n",
    "\n",
    "for _ in tqdm(range(100)):\n",
    "    Vehicle1 = vehicle.Vehicle(x_pos = 0, y_pos = 380, angle= 0, speed = 0, noise = 1)\n",
    "    Vehicle2 = vehicle.Vehicle(x_pos = 0, y_pos = 0, angle= 90, speed = 2.2, noise = 1)\n",
    "\n",
    "\n",
    "    for i in range(200):\n",
    "        if 150 < i <172:\n",
    "            Vehicle2.accelerate(-0.1)\n",
    "\n",
    "        Vehicle1.move()\n",
    "        Vehicle2.move()\n",
    "\n",
    "#     plt.figure(figsize=(5, 5))\n",
    "#     Draw(Vehicle2, \"Vehicle2\",plt)\n",
    "#     Draw(Vehicle1, \"Vehicle1\",plt)\n",
    "#     plt.legend()\n",
    "#     plt.axis([-100, 600, -200, 1000])\n",
    "#     # Draw(Vehicle3, plt)\n",
    "#     plt.show()    \n",
    "\n",
    "    resultsTE = TE.calc(Vehicle1.trajectory, Vehicle2.trajectory)\n",
    "#     print(resultsTE)\n",
    "    \n",
    "    # computeTEandMakeGIF(Vehicle1.trajectory,Vehicle2.trajectory, \"GIF_RESULTS/Scenario02(circle)_small_noise\", [-100, 600, -200, 1000], Azorder= -1)\n",
    "\n",
    "    A.append(resultsTE[0])\n",
    "    B.append(resultsTE[1])\n",
    "np.mean(A), np.mean(B)\n",
    "# computeTEandMakeGIF(Vehicle1.trajectory[100:170],Vehicle2.trajectory[100:170], \"GIF_RESULTS/Scenario03_Last_Last\", [-100, 600, -200, 1000], Azorder= -1)\n",
    "    \n",
    "\n"
   ]
  },
  {
   "cell_type": "code",
   "execution_count": 58,
   "metadata": {
    "ExecuteTime": {
     "end_time": "2020-12-22T00:58:39.127984Z",
     "start_time": "2020-12-22T00:58:19.188281Z"
    }
   },
   "outputs": [
    {
     "name": "stdout",
     "output_type": "stream",
     "text": [
      "(0.05531362381243721, 0.024865479272969004)\n"
     ]
    },
    {
     "data": {
      "application/vnd.jupyter.widget-view+json": {
       "model_id": "39bf8be153c444aabf868b23e896b39e",
       "version_major": 2,
       "version_minor": 0
      },
      "text/plain": [
       "HBox(children=(FloatProgress(value=0.0, max=200.0), HTML(value='')))"
      ]
     },
     "metadata": {},
     "output_type": "display_data"
    },
    {
     "name": "stdout",
     "output_type": "stream",
     "text": [
      "\n"
     ]
    }
   ],
   "source": [
    "computeTEandMakeGIF(Vehicle1.trajectory,Vehicle2.trajectory, \"GIF_RESULTS/Scenario03\", [-100, 600, -200, 1000], Azorder= -1, fps = 30)"
   ]
  },
  {
   "cell_type": "markdown",
   "metadata": {},
   "source": [
    "### 시나리오 3 (CIRCLE)\n",
    "멈춰있는 차량(Vehicle1)을 향해 Vehicle2가 가다가 멈춤"
   ]
  },
  {
   "cell_type": "code",
   "execution_count": 85,
   "metadata": {
    "ExecuteTime": {
     "end_time": "2020-12-22T01:06:54.924135Z",
     "start_time": "2020-12-22T01:06:38.289657Z"
    }
   },
   "outputs": [
    {
     "data": {
      "application/vnd.jupyter.widget-view+json": {
       "model_id": "9ecea61750e4470c9f57bd7a15599b3b",
       "version_major": 2,
       "version_minor": 0
      },
      "text/plain": [
       "HBox(children=(FloatProgress(value=0.0), HTML(value='')))"
      ]
     },
     "metadata": {},
     "output_type": "display_data"
    },
    {
     "name": "stdout",
     "output_type": "stream",
     "text": [
      "\n"
     ]
    },
    {
     "data": {
      "text/plain": [
       "(0.008666304828826965, 0.00823550104870165)"
      ]
     },
     "execution_count": 85,
     "metadata": {},
     "output_type": "execute_result"
    }
   ],
   "source": [
    "import numpy as np\n",
    "\n",
    "A, B = [], []\n",
    "\n",
    "for _ in tqdm(range(100)):\n",
    "    Vehicle1 = vehicle.Vehicle(x_pos = 127.2953, y_pos = 223.7748, angle= 0, speed = 0, noise = 1)\n",
    "    Vehicle2 = vehicle.Vehicle(x_pos = 0, y_pos = 0, angle= 0, speed = 2.2, noise = 1)\n",
    "\n",
    "    for i in range(200):\n",
    "        if 153 < i <175:\n",
    "            Vehicle2.accelerate(-0.1)\n",
    "\n",
    "        Vehicle1.move()\n",
    "        Vehicle2.move()\n",
    "        if i > 23:\n",
    "            Vehicle2.angle +=1\n",
    "\n",
    "\n",
    "#     plt.figure(figsize=(5, 5))\n",
    "#     Draw(Vehicle1, \"Vehicle1\",plt)\n",
    "#     Draw(Vehicle2, \"Vehicle2\",plt)\n",
    "#     plt.legend()\n",
    "#     plt.axis([-100, 200, -200, 300])\n",
    "#     # Draw(Vehicle3, plt)\n",
    "#     plt.show()    \n",
    "\n",
    "    resultsTE = TE.calc(Vehicle1.trajectory, Vehicle2.trajectory)\n",
    "#     print(resultsTE)\n",
    "    \n",
    "    # computeTEandMakeGIF(Vehicle1.trajectory,Vehicle2.trajectory, \"GIF_RESULTS/Scenario02(circle)_small_noise\", [-100, 600, -200, 1000], Azorder= -1)\n",
    "    A.append(resultsTE[0])\n",
    "    B.append(resultsTE[1])\n",
    "np.mean(A), np.mean(B)\n",
    "\n",
    "\n",
    "# computeTEandMakeGIF(Vehicle1.trajectory,Vehicle2.trajectory, \"GIF_RESULTS/Scenario03(circle)_noise_1_B\", [-100, 600, -200, 1000], Azorder= -1)\n",
    "    \n",
    "\n"
   ]
  },
  {
   "cell_type": "code",
   "execution_count": 86,
   "metadata": {
    "ExecuteTime": {
     "end_time": "2020-12-22T01:07:15.099348Z",
     "start_time": "2020-12-22T01:06:54.925289Z"
    }
   },
   "outputs": [
    {
     "name": "stdout",
     "output_type": "stream",
     "text": [
      "(0.009796967490882214, 0.006935215946843432)\n"
     ]
    },
    {
     "data": {
      "application/vnd.jupyter.widget-view+json": {
       "model_id": "f92e69adcffe4f04b05c671f2f9c5b59",
       "version_major": 2,
       "version_minor": 0
      },
      "text/plain": [
       "HBox(children=(FloatProgress(value=0.0, max=200.0), HTML(value='')))"
      ]
     },
     "metadata": {},
     "output_type": "display_data"
    },
    {
     "name": "stdout",
     "output_type": "stream",
     "text": [
      "\n"
     ]
    }
   ],
   "source": [
    "computeTEandMakeGIF(Vehicle1.trajectory,Vehicle2.trajectory, \"GIF_RESULTS/Scenario03(circle)_noise_1_B\", [-100, 600, -200, 1000], Azorder= -1, fps = 30)"
   ]
  }
 ],
 "metadata": {
  "kernelspec": {
   "display_name": "Python 3",
   "language": "python",
   "name": "python3"
  },
  "language_info": {
   "codemirror_mode": {
    "name": "ipython",
    "version": 3
   },
   "file_extension": ".py",
   "mimetype": "text/x-python",
   "name": "python",
   "nbconvert_exporter": "python",
   "pygments_lexer": "ipython3",
   "version": "3.7.6"
  },
  "toc": {
   "base_numbering": 1,
   "nav_menu": {},
   "number_sections": false,
   "sideBar": true,
   "skip_h1_title": false,
   "title_cell": "Table of Contents",
   "title_sidebar": "Contents",
   "toc_cell": false,
   "toc_position": {},
   "toc_section_display": true,
   "toc_window_display": false
  }
 },
 "nbformat": 4,
 "nbformat_minor": 4
}
